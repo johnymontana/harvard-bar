{
 "cells": [
  {
   "cell_type": "markdown",
   "metadata": {},
   "source": [
    "## Graph Based Recommendations With Neo4j, NLP, and Python Data Science Tools"
   ]
  },
  {
   "cell_type": "code",
   "execution_count": null,
   "metadata": {
    "collapsed": true
   },
   "outputs": [],
   "source": [
    "!pip install py2neo\n",
    "!pip \n",
    "!pip install summa\n",
    "!pip install python-igraph"
   ]
  },
  {
   "cell_type": "markdown",
   "metadata": {},
   "source": [
    "## Import data\n",
    "- show the domain\n",
    "- show the CSV heads\n",
    "- "
   ]
  },
  {
   "cell_type": "code",
   "execution_count": 1,
   "metadata": {
    "collapsed": false
   },
   "outputs": [],
   "source": [
    "from py2neo import Graph\n",
    "graph = Graph()"
   ]
  },
  {
   "cell_type": "markdown",
   "metadata": {},
   "source": [
    "### Import Groups and Topics\n",
    "![](http://guides.neo4j.com/bostonmeetup/img/group_has_topic.png)"
   ]
  },
  {
   "cell_type": "code",
   "execution_count": null,
   "metadata": {
    "collapsed": false
   },
   "outputs": [],
   "source": [
    "graph.run(\"CREATE CONSTRAINT ON (g:Group) ASSERT g.id IS UNIQUE;\")"
   ]
  },
  {
   "cell_type": "code",
   "execution_count": null,
   "metadata": {
    "collapsed": true
   },
   "outputs": [],
   "source": [
    "graph.run(\"CREATE CONSTRAINT ON (t:Topic) ASSERT t.id IS UNIQUE;\")"
   ]
  },
  {
   "cell_type": "code",
   "execution_count": null,
   "metadata": {
    "collapsed": true
   },
   "outputs": [],
   "source": [
    "graph.run(\"CREATE INDEX ON :Group(name)\")"
   ]
  },
  {
   "cell_type": "code",
   "execution_count": null,
   "metadata": {
    "collapsed": true
   },
   "outputs": [],
   "source": [
    "graph.run(\"CREATE INDEX ON :Topic(name)\")"
   ]
  },
  {
   "cell_type": "code",
   "execution_count": null,
   "metadata": {
    "collapsed": false
   },
   "outputs": [],
   "source": [
    "graph.run('''\n",
    "LOAD CSV WITH HEADERS\n",
    "FROM \"https://raw.githubusercontent.com/johnymontana/harvard-bar/master/data/groups.csv\"\n",
    "AS row\n",
    "MERGE (group:Group { id:row.id })\n",
    "ON CREATE SET\n",
    "  group.name = row.name,\n",
    "  group.urlname = row.urlname,\n",
    "  group.rating = toInt(row.rating),\n",
    "  group.created = toInt(row.created)\n",
    "''')"
   ]
  },
  {
   "cell_type": "code",
   "execution_count": null,
   "metadata": {
    "collapsed": true
   },
   "outputs": [],
   "source": [
    "graph.run('''\n",
    "LOAD CSV WITH HEADERS FROM \"https://raw.githubusercontent.com/johnymontana/harvard-bar/master/data/groups_topics.csv\"  AS row\n",
    "MERGE (topic:Topic {id: row.id})\n",
    "ON CREATE SET topic.name = row.name, topic.urlkey = row.urlkey\n",
    "''')"
   ]
  },
  {
   "cell_type": "code",
   "execution_count": null,
   "metadata": {
    "collapsed": true
   },
   "outputs": [],
   "source": [
    "graph.run('''\n",
    "LOAD CSV WITH HEADERS FROM \"https://raw.githubusercontent.com/johnymontana/harvard-bar/master/data/groups_topics.csv\"  AS row\n",
    "MATCH (topic:Topic {id: row.id})\n",
    "MATCH (group:Group {id: row.groupId})\n",
    "MERGE (group)-[:HAS_TOPIC]->(topic)\n",
    "''')"
   ]
  },
  {
   "cell_type": "markdown",
   "metadata": {},
   "source": [
    "### Find similar groups to Graph Database Boston\n",
    "By looking at topics, can we find groups that have similar topics to Graph Database Boston?"
   ]
  },
  {
   "cell_type": "code",
   "execution_count": null,
   "metadata": {
    "collapsed": false
   },
   "outputs": [],
   "source": [
    "result = graph.run('''\n",
    "MATCH (group:Group)-[:HAS_TOPIC]->(topic)<-[:HAS_TOPIC]-(otherGroup)\n",
    "WHERE group.name CONTAINS \"Graph Database\"\n",
    "RETURN otherGroup.name, COUNT(topic) AS topicsInCommon,\n",
    "       COLLECT(topic.name) AS topics\n",
    "ORDER BY topicsInCommon DESC, otherGroup.name\n",
    "LIMIT 10\n",
    "''')\n",
    "\n",
    "for row in result:\n",
    "    print(row)"
   ]
  },
  {
   "cell_type": "markdown",
   "metadata": {},
   "source": [
    "## Topic Similarity\n",
    "\n",
    "Using community detection to find similar topics\n",
    "\n",
    "![](https://camo.githubusercontent.com/0054c52996fdd9bb82456406cb867bdb3985d14c/687474703a2f2f7777772e6c796f6e776a2e636f6d2f7075626c69632f696d672f636f6d6d756e6974792d312e706e67)"
   ]
  },
  {
   "cell_type": "code",
   "execution_count": 2,
   "metadata": {
    "collapsed": true
   },
   "outputs": [],
   "source": [
    "from igraph import Graph as IGraph"
   ]
  },
  {
   "cell_type": "markdown",
   "metadata": {},
   "source": [
    "Find all pairs of topics and find the number of common groups that share each pair of topics. We'll use this as weight to build a \"virtual graph\" of the form`(Topic)-[:OCCURS_WITH {weight}]-(Topic)`"
   ]
  },
  {
   "cell_type": "code",
   "execution_count": 3,
   "metadata": {
    "collapsed": false
   },
   "outputs": [
    {
     "name": "stdout",
     "output_type": "stream",
     "text": [
      "(u'topic.name': u'Software Development', u'other.name': u'Computer programming', u'weight': 101)\n",
      "(u'topic.name': u'Web Development', u'other.name': u'Software Development', u'weight': 88)\n",
      "(u'topic.name': u'Open Source', u'other.name': u'Software Development', u'weight': 77)\n",
      "(u'topic.name': u'New Technology', u'other.name': u'Software Development', u'weight': 72)\n",
      "(u'topic.name': u'Big Data', u'other.name': u'Data Analytics', u'weight': 68)\n",
      "(u'topic.name': u'Web Technology', u'other.name': u'Software Development', u'weight': 65)\n",
      "(u'topic.name': u'Web Development', u'other.name': u'Computer programming', u'weight': 60)\n",
      "(u'topic.name': u'Big Data', u'other.name': u'Big Data Analytics', u'weight': 59)\n",
      "(u'topic.name': u'Open Source', u'other.name': u'Computer programming', u'weight': 54)\n",
      "(u'topic.name': u'Big Data', u'other.name': u'Data Science', u'weight': 51)\n"
     ]
    }
   ],
   "source": [
    "\n",
    "query = \"\"\"\n",
    "MATCH (topic:Topic)<-[:HAS_TOPIC]-()-[:HAS_TOPIC]->(other:Topic)\n",
    "WHERE ID(topic) < ID(other)\n",
    "RETURN topic.name, other.name, COUNT(*) AS weight\n",
    "ORDER BY weight DESC\n",
    "LIMIT 10\n",
    "\"\"\"\n",
    "\n",
    "result = graph.run(query)\n",
    "for row in result:\n",
    "    print(row)\n"
   ]
  },
  {
   "cell_type": "markdown",
   "metadata": {},
   "source": [
    "Now let's run this query again and build an igraph instance from the results:"
   ]
  },
  {
   "cell_type": "code",
   "execution_count": 4,
   "metadata": {
    "collapsed": false
   },
   "outputs": [
    {
     "data": {
      "text/plain": [
       "<igraph.Graph at 0x10d04f148>"
      ]
     },
     "execution_count": 4,
     "metadata": {},
     "output_type": "execute_result"
    }
   ],
   "source": [
    "query = \"\"\"\n",
    "MATCH (topic:Topic)<-[:HAS_TOPIC]-()-[:HAS_TOPIC]->(other:Topic)\n",
    "WHERE ID(topic) < ID(other)\n",
    "RETURN topic.name, other.name, COUNT(*) AS weight\n",
    "\"\"\"\n",
    "\n",
    "ig = IGraph.TupleList(graph.run(query), weights=True)\n",
    "ig"
   ]
  },
  {
   "cell_type": "markdown",
   "metadata": {},
   "source": [
    "Now we'll run the Walktrap community detection algorithm to find clusters / communities:"
   ]
  },
  {
   "cell_type": "code",
   "execution_count": 5,
   "metadata": {
    "collapsed": false
   },
   "outputs": [
    {
     "data": {
      "text/plain": [
       "39"
      ]
     },
     "execution_count": 5,
     "metadata": {},
     "output_type": "execute_result"
    }
   ],
   "source": [
    "clusters = IGraph.community_walktrap(ig, weights=\"weight\")\n",
    "clusters = clusters.as_clustering()\n",
    "len(clusters)"
   ]
  },
  {
   "cell_type": "markdown",
   "metadata": {},
   "source": [
    "Let's inspect the results:"
   ]
  },
  {
   "cell_type": "code",
   "execution_count": 6,
   "metadata": {
    "collapsed": false
   },
   "outputs": [
    {
     "data": {
      "text/plain": [
       "[{'group': 0,\n",
       "  'id': u'Software QA and Testing',\n",
       "  'label': u'Software QA and Testing'},\n",
       " {'group': 0, 'id': u'Test Automation', 'label': u'Test Automation'},\n",
       " {'group': 1, 'id': u'Game Development', 'label': u'Game Development'},\n",
       " {'group': 2, 'id': u'Games', 'label': u'Games'},\n",
       " {'group': 3,\n",
       "  'id': u'MicroStrategy Best Practices',\n",
       "  'label': u'MicroStrategy Best Practices'}]"
      ]
     },
     "execution_count": 6,
     "metadata": {},
     "output_type": "execute_result"
    }
   ],
   "source": [
    "\n",
    "nodes = [node[\"name\"] for node in ig.vs]\n",
    "nodes = [{\"id\": x, \"label\": x} for x in nodes]\n",
    "nodes[:5]\n",
    "\n",
    "for node in nodes:\n",
    "    idx = ig.vs.find(name=node[\"id\"]).index\n",
    "    node[\"group\"] = clusters.membership[idx]\n",
    "    \n",
    "nodes[:5]"
   ]
  },
  {
   "cell_type": "markdown",
   "metadata": {},
   "source": [
    "Now we'll write the results back to Neo4j, extended our graph model:\n",
    "![](http://guides.neo4j.com/bostonmeetup/img/cluster_datamodel.png)"
   ]
  },
  {
   "cell_type": "code",
   "execution_count": 7,
   "metadata": {
    "collapsed": false
   },
   "outputs": [
    {
     "data": {
      "text/plain": [
       "<py2neo.database.Cursor at 0x10d92c850>"
      ]
     },
     "execution_count": 7,
     "metadata": {},
     "output_type": "execute_result"
    }
   ],
   "source": [
    "query = \"\"\"\n",
    "UNWIND {params} AS p \n",
    "MATCH (t:Topic {name: p.id}) \n",
    "MERGE (cluster:Cluster {name: p.group})\n",
    "MERGE (t)-[:IN_CLUSTER]->(cluster)\n",
    "\"\"\"\n",
    "\n",
    "graph.run(query, params = nodes)"
   ]
  },
  {
   "cell_type": "markdown",
   "metadata": {},
   "source": [
    "We can see which clusters the Python related topics end up being in:\n",
    "![](http://guides.neo4j.com/bostonmeetup/img/python_cluster.png)"
   ]
  },
  {
   "cell_type": "code",
   "execution_count": null,
   "metadata": {
    "collapsed": true
   },
   "outputs": [],
   "source": [
    "graph.run('''\n",
    "MATCH (cluster:Cluster)<-[inCluster:IN_CLUSTER]-(topic)\n",
    "WHERE topic.name CONTAINS \"Python\"\n",
    "RETURN *\n",
    "''')"
   ]
  },
  {
   "cell_type": "markdown",
   "metadata": {},
   "source": [
    "## My Similar Groups\n",
    "\n",
    "We need to add Member data in order to build more relevant\n",
    "recommendations:\n",
    "![](http://guides.neo4j.com/bostonmeetup/img/group_has_topic_member_of.png)"
   ]
  },
  {
   "cell_type": "code",
   "execution_count": null,
   "metadata": {
    "collapsed": false
   },
   "outputs": [],
   "source": [
    "graph.run('''\n",
    "CREATE CONSTRAINT ON (m:Member)\n",
    "ASSERT m.id IS UNIQUE''')"
   ]
  },
  {
   "cell_type": "code",
   "execution_count": null,
   "metadata": {
    "collapsed": false
   },
   "outputs": [],
   "source": [
    "graph.run('''\n",
    "USING PERIODIC COMMIT 10000\n",
    "LOAD CSV WITH HEADERS\n",
    "FROM \"https://raw.githubusercontent.com/johnymontana/harvard-bar/master/data/members.csv\" AS row\n",
    "WITH DISTINCT row.id AS id, row.name AS name\n",
    "MERGE (member:Member {id: id})\n",
    "ON CREATE SET member.name = name\n",
    "''')"
   ]
  },
  {
   "cell_type": "code",
   "execution_count": null,
   "metadata": {
    "collapsed": false
   },
   "outputs": [],
   "source": [
    "graph.run('''\n",
    "USING PERIODIC COMMIT 10000\n",
    "LOAD CSV WITH HEADERS\n",
    "FROM \"https://raw.githubusercontent.com/johnymontana/harvard-bar/master/data/members.csv\" AS row\n",
    "WITH row WHERE NOT row.joined is null\n",
    "MATCH (member:Member {id: row.id})\n",
    "MATCH (group:Group {id: row.groupId})\n",
    "MERGE (member)-[membership:MEMBER_OF]->(group)\n",
    "ON CREATE SET membership.joined=toInt(row.joined);\n",
    "''')"
   ]
  },
  {
   "cell_type": "code",
   "execution_count": null,
   "metadata": {
    "collapsed": false
   },
   "outputs": [],
   "source": [
    "graph.run('''\n",
    "MATCH (member:Member)-[membership:MEMBER_OF]->(group)\n",
    "RETURN member, group, membership\n",
    "LIMIT 10\n",
    "''')"
   ]
  },
  {
   "cell_type": "markdown",
   "metadata": {},
   "source": [
    "![](http://guides.neo4j.com/bostonmeetup/img/group_members.png)"
   ]
  },
  {
   "cell_type": "code",
   "execution_count": null,
   "metadata": {
    "collapsed": false
   },
   "outputs": [],
   "source": [
    "graph.run(\"CREATE INDEX ON :Member(name)\")"
   ]
  },
  {
   "cell_type": "markdown",
   "metadata": {},
   "source": [
    "### Find my similar groups"
   ]
  },
  {
   "cell_type": "code",
   "execution_count": null,
   "metadata": {
    "collapsed": false
   },
   "outputs": [],
   "source": [
    "results = graph.run('''MATCH (member:Member {name: \"Will Lyon\"})-[:MEMBER_OF]->()-[:HAS_TOPIC]->()<-[:HAS_TOPIC]-(otherGroup:Group)\n",
    "WHERE NOT (member)-[:MEMBER_OF]->(otherGroup)\n",
    "RETURN otherGroup.name,\n",
    "       COUNT(*) AS topicsInCommon\n",
    "ORDER BY topicsInCommon DESC\n",
    "LIMIT 10''')\n",
    "\n",
    "for row in results:\n",
    "    print(row)"
   ]
  },
  {
   "cell_type": "markdown",
   "metadata": {},
   "source": [
    "## Events\n",
    "![](http://guides.neo4j.com/bostonmeetup/img/event_datamodel.png)"
   ]
  },
  {
   "cell_type": "code",
   "execution_count": null,
   "metadata": {
    "collapsed": false
   },
   "outputs": [],
   "source": [
    "graph.run(\"CREATE CONSTRAINT ON (e:Event) ASSERT e.id IS UNIQUE\")"
   ]
  },
  {
   "cell_type": "code",
   "execution_count": null,
   "metadata": {
    "collapsed": false
   },
   "outputs": [],
   "source": [
    "graph.run(\"CREATE INDEX ON :Event(time)\")"
   ]
  },
  {
   "cell_type": "code",
   "execution_count": null,
   "metadata": {
    "collapsed": false
   },
   "outputs": [],
   "source": [
    "graph.run('''USING PERIODIC COMMIT 10000\n",
    "LOAD CSV WITH HEADERS FROM \"https://raw.githubusercontent.com/johnymontana/harvard-bar/master/data/events.csv\" AS row\n",
    "MERGE (event:Event {id: row.id})\n",
    "ON CREATE SET event.name = row.name,\n",
    "              event.description = row.description,\n",
    "              event.time = toInt(row.time),\n",
    "              event.utcOffset = toInt(row.utc_offset)\n",
    "''')\n",
    "              "
   ]
  },
  {
   "cell_type": "code",
   "execution_count": null,
   "metadata": {
    "collapsed": false
   },
   "outputs": [],
   "source": [
    "graph.run('''\n",
    "USING PERIODIC COMMIT 10000\n",
    "LOAD CSV WITH HEADERS FROM \"https://raw.githubusercontent.com/johnymontana/harvard-bar/master/data/events.csv\" AS row\n",
    "\n",
    "WITH distinct row.group_id as groupId, row.id as eventId\n",
    "MATCH (group:Group {id: groupId})\n",
    "MATCH (event:Event {id: eventId})\n",
    "MERGE (group)-[:HOSTED_EVENT]->(event)\n",
    "''')"
   ]
  },
  {
   "cell_type": "code",
   "execution_count": null,
   "metadata": {
    "collapsed": false
   },
   "outputs": [],
   "source": [
    "graph.run('''\n",
    "MATCH (group:Group)-[hosted:HOSTED_EVENT]->(event)\n",
    "WHERE group.name CONTAINS \"Graph Database\" AND event.time < timestamp()\n",
    "RETURN event, group, hosted\n",
    "ORDER BY event.time DESC\n",
    "LIMIT 10\n",
    "''')"
   ]
  },
  {
   "cell_type": "markdown",
   "metadata": {},
   "source": [
    "### Adding Member RSVPs\n",
    "TODO: add datamodel image"
   ]
  },
  {
   "cell_type": "code",
   "execution_count": null,
   "metadata": {
    "collapsed": false
   },
   "outputs": [],
   "source": [
    "graph.run('''\n",
    "USING PERIODIC COMMIT 10000\n",
    "LOAD CSV WITH HEADERS FROM \"file:///rsvps.csv\" AS row\n",
    "WITH row WHERE row.response = \"yes\"\n",
    "\n",
    "MATCH (member:Member {id: row.member_id})\n",
    "MATCH (event:Event {id: row.event_id})\n",
    "MERGE (member)-[rsvp:RSVPD {id: row.rsvp_id}]->(event)\n",
    "ON CREATE SET rsvp.created = toint(row.created),\n",
    "              rsvp.lastModified = toint(row.mtime),\n",
    "              rsvp.guests = toint(row.guests)\n",
    "''')"
   ]
  },
  {
   "cell_type": "code",
   "execution_count": null,
   "metadata": {
    "collapsed": true
   },
   "outputs": [],
   "source": []
  },
  {
   "cell_type": "markdown",
   "metadata": {},
   "source": [
    "![](![](http://guides.neo4j.com/bostonmeetup/img/graph_database_events.png)"
   ]
  },
  {
   "cell_type": "markdown",
   "metadata": {},
   "source": [
    "### Extracting keywords from event descriptions\n",
    "Note that we have topics for groups, but not for Events. We can use some NLP techniques to extract keywords from event descriptions and extend our datamodel to take those keywords into account in our recommendation queries.\n",
    "\n",
    "![](http://guides.neo4j.com/bostonmeetup/img/keyword_datamodel.png)"
   ]
  },
  {
   "cell_type": "code",
   "execution_count": 8,
   "metadata": {
    "collapsed": true
   },
   "outputs": [],
   "source": [
    "# Helper function for stripping HTML\n",
    "from HTMLParser import HTMLParser\n",
    "class MLStripper(HTMLParser):\n",
    "    def __init__(self):\n",
    "        self.reset()\n",
    "        self.fed = []\n",
    "    def handle_data(self, d):\n",
    "        self.fed.append(d)\n",
    "    def get_data(self):\n",
    "        return ''.join(self.fed)\n",
    "    \n",
    "def strip_tags(html):\n",
    "    s = MLStripper()\n",
    "    s.feed(html)\n",
    "    return s.get_data()"
   ]
  },
  {
   "cell_type": "code",
   "execution_count": 9,
   "metadata": {
    "collapsed": true
   },
   "outputs": [],
   "source": [
    "from summa import keywords"
   ]
  },
  {
   "cell_type": "code",
   "execution_count": 10,
   "metadata": {
    "collapsed": false
   },
   "outputs": [
    {
     "data": {
      "text/plain": [
       "<py2neo.database.Cursor at 0x1104c8090>"
      ]
     },
     "execution_count": 10,
     "metadata": {},
     "output_type": "execute_result"
    }
   ],
   "source": [
    "graph.run(\"CREATE CONSTRAINT ON (k:Keyword) ASSERT k.name IS UNIQUE\")"
   ]
  },
  {
   "cell_type": "code",
   "execution_count": 11,
   "metadata": {
    "collapsed": false
   },
   "outputs": [],
   "source": [
    "def addKeywords():\n",
    "    result = graph.run('''\n",
    "        MATCH (e:Event)<-[:HOSTED_EVENT]-(g:Group {name: \"Graph Database Boston\"})\n",
    "        RETURN e.id AS e_id, e.description AS desc\n",
    "        ''')\n",
    "    for row in result:\n",
    "        text = strip_tags(row['desc'])\n",
    "        kws = keywords.keywords(text)\n",
    "        if kws:\n",
    "            k = [str(k) for k in kws.split('\\n')]\n",
    "            \n",
    "            p = {\n",
    "                'kws': k,\n",
    "                'e_id': str(row['e_id'])\n",
    "            }\n",
    "            print(p)\n",
    "            \n",
    "            query = '''\n",
    "            WITH {kws} AS kws\n",
    "                MATCH (e:Event) WHERE e.id = {e_id}\n",
    "                UNWIND kws AS kw\n",
    "                MERGE (k:Keyword {name: kw})\n",
    "                MERGE (e)-[:HAS_TAG]->(k)\n",
    "            '''\n",
    "            \n",
    "            graph.run(query, parameters = p)\n"
   ]
  },
  {
   "cell_type": "code",
   "execution_count": 12,
   "metadata": {
    "collapsed": false
   },
   "outputs": [
    {
     "name": "stdout",
     "output_type": "stream",
     "text": [
      "{'kws': ['data', 'recommendation', 'recommendations', 'william', 'build', 'building', 'neo', 'language', 'graph', 'graphs', 'science', 'like', 'documentation', 'feel', 'networking', 'talk', 'pizza', 'software developer', 'develop', 'developers'], 'e_id': '233998812'}\n",
      "{'kws': ['meetup'], 'e_id': '232416626'}\n",
      "{'kws': ['successful', 'success team', 'customer', 'enterprise customers', 'management', 'account', 'dave', 'process', 'gordon', 'leads', 'technical'], 'e_id': '231623217'}\n",
      "{'kws': ['neo', 'data', 'pass', 'hadoop', 'strata', 'include', 'ticket included', 'uggdbb'], 'e_id': '198290172'}\n",
      "{'kws': ['data', 'dave', 'neo', 'changes', 'technology', 'new', 'providing', 'provided', 'area', 'release'], 'e_id': '218826807'}\n",
      "{'kws': ['meetup', 'code', 'price', 'ticket', 'sessions'], 'e_id': '219791058'}\n",
      "{'kws': ['webinar', 'http', 'session', 'pm', 'data'], 'e_id': '221232206'}\n",
      "{'kws': ['data', 'visualization', 'visualizing', 'visually', 'graph', 'cambridge', 'solutions', 'solution', 'query', 'javascript', 'practice', 'keylines', 'financial', 'complex connected', 'company', 'connections', 'users', 'alongside'], 'e_id': '221088624'}\n",
      "{'kws': ['graphs', 'graph database', 'sessions', 'session', 'databases', 'required', 'requirements', 'neo', 'modeling course', 'th', 'model', 'register', 'applications'], 'e_id': '221040001'}\n",
      "{'kws': ['meetodsc', 'early registration', 'users', 'code', 'learning predictive', 'machine'], 'e_id': '221127834'}\n",
      "{'kws': ['promo', 'code', 'wanderu', 'app', 'checkout', 'community'], 'e_id': '221089038'}\n",
      "{'kws': ['graphconnect', 'graph', 'graphs', 'world', 'community', 'www', 'companies'], 'e_id': '225211468'}\n",
      "{'kws': ['talk', 'talks', 'graph', 'neo', 'special', 'come', 'benioff', 'quick', 'minute', 'lightning', 'drinks', 'agenda', 'new'], 'e_id': '223873922'}\n",
      "{'kws': ['registration', 'hadoop', 'data', 'spark', 'rd', 'programming', 'april', 'ps', 'offer', 'apache', 'nd'], 'e_id': '229992395'}\n",
      "{'kws': ['led foundation', 'courses', 'course', 'registration', 'learning', 'live', 'opportunity'], 'e_id': '230946516'}\n",
      "{'kws': ['query', 'queries', 'profile', 'help', 'wanderu', 'talk', 'talks', 'python', 'java', 'pizza', 'learn'], 'e_id': '99602462'}\n",
      "{'kws': ['graph', 'graphs', 'new', 'beer', 'loves', 'love', 'community', 'wide', 'neo', 'pizza', 'discussions', 'multiple email', 'block', 'pernilla'], 'e_id': '84367522'}\n",
      "{'kws': ['ian', 'meaning', 'pizza', 'melih', 'unconference', 'sample'], 'e_id': '107084492'}\n",
      "{'kws': ['data', 'graph', 'discount', 'gc', 'graphconnect', 'boston', 'meetup'], 'e_id': '116604132'}\n",
      "{'kws': ['wanderu', 'sna', 'pm', 'network', 'information networks like', 'example', 'people', 'concepts', 'informal', 'social', 'analysis', 'chris'], 'e_id': '144010282'}\n"
     ]
    }
   ],
   "source": [
    "addKeywords()"
   ]
  },
  {
   "cell_type": "code",
   "execution_count": null,
   "metadata": {
    "collapsed": false
   },
   "outputs": [],
   "source": [
    "type(kws)"
   ]
  },
  {
   "cell_type": "code",
   "execution_count": null,
   "metadata": {
    "collapsed": false
   },
   "outputs": [],
   "source": [
    "s = kws.split('\\n')"
   ]
  },
  {
   "cell_type": "code",
   "execution_count": null,
   "metadata": {
    "collapsed": false
   },
   "outputs": [],
   "source": [
    "s"
   ]
  },
  {
   "cell_type": "code",
   "execution_count": null,
   "metadata": {
    "collapsed": true
   },
   "outputs": [],
   "source": []
  }
 ],
 "metadata": {
  "kernelspec": {
   "display_name": "Python 2",
   "language": "python",
   "name": "python2"
  },
  "language_info": {
   "codemirror_mode": {
    "name": "ipython",
    "version": 2
   },
   "file_extension": ".py",
   "mimetype": "text/x-python",
   "name": "python",
   "nbconvert_exporter": "python",
   "pygments_lexer": "ipython2",
   "version": "2.7.10"
  }
 },
 "nbformat": 4,
 "nbformat_minor": 1
}
